{
 "cells": [
  {
   "cell_type": "markdown",
   "id": "468a5a69",
   "metadata": {},
   "source": [
    "# Saidak's Proof of the Infinitude of Primes\n",
    "In 2006, Filip Saidak gave a new, remarkably simple proof that there are an infinite number of primes. You can read it [here](https://fermatslibrary.com/s/a-new-proof-of-euclids-theorem).\n",
    "\n",
    "It is a constructive proof, which starts with the fact that $N$ and $N+1$ are always coprime, and constructs a sequence $a(n+1) = a(n) \\times (a(n) + 1)$ with the property that $a(n)$ has at least $n$ prime factors.\n",
    "\n",
    "However, the sequence grows so quickly that it is not an efficient way to compute primes.\n",
    "\n",
    "Let's compute some of the terms in the sequence, which is [A007018](https://oeis.org/A007018) in \n",
    "the On-Line Encyclopedia of Integer Sequences."
   ]
  },
  {
   "cell_type": "markdown",
   "id": "9c96e49f",
   "metadata": {},
   "source": [
    "Start with imports, and a little function to help with formatting."
   ]
  },
  {
   "cell_type": "code",
   "execution_count": 1,
   "id": "fd5cee75",
   "metadata": {},
   "outputs": [],
   "source": [
    "from sympy import factorint\n",
    "from tabulate import tabulate"
   ]
  },
  {
   "cell_type": "code",
   "execution_count": 2,
   "id": "3d954d86",
   "metadata": {},
   "outputs": [],
   "source": [
    "def set_to_str(vals, old_vals):\n",
    "    s = \"{\"\n",
    "    for v in vals:\n",
    "        if len(s) > 1:\n",
    "            s += \", \"\n",
    "        if v in old_vals:\n",
    "            s += f\"{v}\"\n",
    "        else:\n",
    "            s += f\"<b>{v}</b>\"\n",
    "    s += \"}\"\n",
    "    return s"
   ]
  },
  {
   "cell_type": "markdown",
   "id": "ec9d0541",
   "metadata": {},
   "source": [
    "Now compute $a(n)$ and its prime factors for the first few values of $n$, using `sympy`'s `factorint` function. "
   ]
  },
  {
   "cell_type": "code",
   "execution_count": 3,
   "id": "5030036b",
   "metadata": {},
   "outputs": [
    {
     "data": {
      "text/html": [
       "<table>\n",
       "<thead>\n",
       "<tr><th style=\"text-align: right;\">  n</th><th style=\"text-align: right;\">                       a(n)</th><th>product                      </th><th>prime factors                                                                     </th><th style=\"text-align: right;\">  number of distinct prime factors</th></tr>\n",
       "</thead>\n",
       "<tbody>\n",
       "<tr><td style=\"text-align: right;\">  0</td><td style=\"text-align: right;\">                          1</td><td>                             </td><td>{}                                                                                </td><td style=\"text-align: right;\">                                 0</td></tr>\n",
       "<tr><td style=\"text-align: right;\">  1</td><td style=\"text-align: right;\">                          2</td><td>1*2                          </td><td>{<b>2</b>}                                                                        </td><td style=\"text-align: right;\">                                 1</td></tr>\n",
       "<tr><td style=\"text-align: right;\">  2</td><td style=\"text-align: right;\">                          6</td><td>2*3                          </td><td>{2, <b>3</b>}                                                                     </td><td style=\"text-align: right;\">                                 2</td></tr>\n",
       "<tr><td style=\"text-align: right;\">  3</td><td style=\"text-align: right;\">                         42</td><td>6*7                          </td><td>{2, 3, <b>7</b>}                                                                  </td><td style=\"text-align: right;\">                                 3</td></tr>\n",
       "<tr><td style=\"text-align: right;\">  4</td><td style=\"text-align: right;\">                       1806</td><td>42*43                        </td><td>{2, 3, 7, <b>43</b>}                                                              </td><td style=\"text-align: right;\">                                 4</td></tr>\n",
       "<tr><td style=\"text-align: right;\">  5</td><td style=\"text-align: right;\">                    3263442</td><td>1806*1807                    </td><td>{2, 3, 7, <b>13</b>, 43, <b>139</b>}                                              </td><td style=\"text-align: right;\">                                 6</td></tr>\n",
       "<tr><td style=\"text-align: right;\">  6</td><td style=\"text-align: right;\">             10650056950806</td><td>3263442*3263443              </td><td>{2, 3, 7, 13, 43, 139, <b>3263443</b>}                                            </td><td style=\"text-align: right;\">                                 7</td></tr>\n",
       "<tr><td style=\"text-align: right;\">  7</td><td style=\"text-align: right;\">113423713055421844361000442</td><td>10650056950806*10650056950807</td><td>{2, 3, 7, 13, 43, 139, <b>547</b>, <b>607</b>, <b>1033</b>, <b>31051</b>, 3263443}</td><td style=\"text-align: right;\">                                11</td></tr>\n",
       "</tbody>\n",
       "</table>"
      ],
      "text/plain": [
       "'<table>\\n<thead>\\n<tr><th style=\"text-align: right;\">  n</th><th style=\"text-align: right;\">                       a(n)</th><th>product                      </th><th>prime factors                                                                     </th><th style=\"text-align: right;\">  number of distinct prime factors</th></tr>\\n</thead>\\n<tbody>\\n<tr><td style=\"text-align: right;\">  0</td><td style=\"text-align: right;\">                          1</td><td>                             </td><td>{}                                                                                </td><td style=\"text-align: right;\">                                 0</td></tr>\\n<tr><td style=\"text-align: right;\">  1</td><td style=\"text-align: right;\">                          2</td><td>1*2                          </td><td>{<b>2</b>}                                                                        </td><td style=\"text-align: right;\">                                 1</td></tr>\\n<tr><td style=\"text-align: right;\">  2</td><td style=\"text-align: right;\">                          6</td><td>2*3                          </td><td>{2, <b>3</b>}                                                                     </td><td style=\"text-align: right;\">                                 2</td></tr>\\n<tr><td style=\"text-align: right;\">  3</td><td style=\"text-align: right;\">                         42</td><td>6*7                          </td><td>{2, 3, <b>7</b>}                                                                  </td><td style=\"text-align: right;\">                                 3</td></tr>\\n<tr><td style=\"text-align: right;\">  4</td><td style=\"text-align: right;\">                       1806</td><td>42*43                        </td><td>{2, 3, 7, <b>43</b>}                                                              </td><td style=\"text-align: right;\">                                 4</td></tr>\\n<tr><td style=\"text-align: right;\">  5</td><td style=\"text-align: right;\">                    3263442</td><td>1806*1807                    </td><td>{2, 3, 7, <b>13</b>, 43, <b>139</b>}                                              </td><td style=\"text-align: right;\">                                 6</td></tr>\\n<tr><td style=\"text-align: right;\">  6</td><td style=\"text-align: right;\">             10650056950806</td><td>3263442*3263443              </td><td>{2, 3, 7, 13, 43, 139, <b>3263443</b>}                                            </td><td style=\"text-align: right;\">                                 7</td></tr>\\n<tr><td style=\"text-align: right;\">  7</td><td style=\"text-align: right;\">113423713055421844361000442</td><td>10650056950806*10650056950807</td><td>{2, 3, 7, 13, 43, 139, <b>547</b>, <b>607</b>, <b>1033</b>, <b>31051</b>, 3263443}</td><td style=\"text-align: right;\">                                11</td></tr>\\n</tbody>\\n</table>'"
      ]
     },
     "execution_count": 3,
     "metadata": {},
     "output_type": "execute_result"
    }
   ],
   "source": [
    "table = []\n",
    "headers = [\"n\", \"a(n)\", \"product\", \"prime factors\", \"number of distinct prime factors\"]\n",
    "n=0\n",
    "a=1\n",
    "prime_factors = list(factorint(a).keys())\n",
    "table.append([n, a, \"\", set_to_str(prime_factors, []), len(prime_factors)])\n",
    "for n in range(1, 8):\n",
    "    prev_a = a\n",
    "    prev_prime_factors = prime_factors\n",
    "    a = a*(a+1)\n",
    "    prime_factors = list(factorint(a).keys())\n",
    "    table.append([n, a, f\"{prev_a}*{prev_a+1}\", set_to_str(prime_factors, prev_prime_factors), len(prime_factors)])\n",
    "tabulate(table, headers=headers, tablefmt=\"unsafehtml\")"
   ]
  },
  {
   "cell_type": "markdown",
   "id": "007bbd7e",
   "metadata": {},
   "source": [
    "The new prime factors for each term are shown in bold. The first four terms each add one prime factor, but $a(5)$ adds two (13 and 139), and furthermore, one (13) is smaller than the largest prime factor from the previous term (43). This is to be expected: there was nothing about the construction that says the new primes are going to be increasing in size."
   ]
  },
  {
   "cell_type": "markdown",
   "id": "7ee6a75f",
   "metadata": {},
   "source": [
    "Since we are factorizing what are essentially arbitrary integers, and the number of digits doubles for each term, it's only possible to compute (and factorize) a few more terms before it becomes unfeasible to go any further."
   ]
  },
  {
   "cell_type": "code",
   "execution_count": 4,
   "id": "16b41402",
   "metadata": {},
   "outputs": [
    {
     "name": "stdout",
     "output_type": "stream",
     "text": [
      "0 1 []\n",
      "1 2 [2]\n",
      "2 6 [2, 3]\n",
      "3 42 [2, 3, 7]\n",
      "4 1806 [2, 3, 7, 43]\n",
      "5 3263442 [2, 3, 7, 13, 43, 139]\n",
      "6 10650056950806 [2, 3, 7, 13, 43, 139, 3263443]\n",
      "7 113423713055421844361000442 [2, 3, 7, 13, 43, 139, 547, 607, 1033, 31051, 3263443]\n",
      "8 12864938683278671740537145998360961546653259485195806 [2, 3, 7, 13, 43, 139, 547, 607, 1033, 31051, 67003, 29881, 3263443, 9119521, 6212157481]\n",
      "9 165506647324519964198468195444439180017513152706377497841851388766535868639572406808911988131737645185442 [2, 3, 7, 13, 43, 139, 547, 607, 1033, 31051, 67003, 29881, 3263443, 9119521, 6212157481, 5295435634831, 31401519357481261, 77366930214021991992277]\n",
      "CPU times: user 1min 42s, sys: 182 ms, total: 1min 42s\n",
      "Wall time: 1min 43s\n"
     ]
    }
   ],
   "source": [
    "%%time\n",
    "n=0\n",
    "a=1\n",
    "prime_factors = list(factorint(a).keys())\n",
    "print(n, a, prime_factors)\n",
    "for n in range(1, 10):\n",
    "    a = a*(a+1)\n",
    "    prime_factors = list(factorint(a).keys())\n",
    "    print(n, a, prime_factors)"
   ]
  },
  {
   "cell_type": "markdown",
   "id": "500fda4e",
   "metadata": {},
   "source": [
    "### Further reading\n",
    "* [My Favorite Theorem with Ken Ribet](https://kpknudson.com/my-favorite-theorem/2018/7/10/episode-22-ken-ribet) - talking about different proofs of the infinitude of primes."
   ]
  },
  {
   "cell_type": "code",
   "execution_count": null,
   "id": "db602d32",
   "metadata": {},
   "outputs": [],
   "source": []
  }
 ],
 "metadata": {
  "kernelspec": {
   "display_name": "Python 3 (ipykernel)",
   "language": "python",
   "name": "python3"
  },
  "language_info": {
   "codemirror_mode": {
    "name": "ipython",
    "version": 3
   },
   "file_extension": ".py",
   "mimetype": "text/x-python",
   "name": "python",
   "nbconvert_exporter": "python",
   "pygments_lexer": "ipython3",
   "version": "3.7.10"
  }
 },
 "nbformat": 4,
 "nbformat_minor": 5
}
